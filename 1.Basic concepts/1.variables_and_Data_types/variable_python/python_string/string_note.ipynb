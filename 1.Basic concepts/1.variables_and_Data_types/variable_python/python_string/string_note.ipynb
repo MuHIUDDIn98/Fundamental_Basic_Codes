{
  "cells": [
    {
      "cell_type": "markdown",
      "metadata": {},
      "source": [
        "# A Comprehensive Guide to Python Strings \n",
        "\n",
        "This notebook covers the essentials of working with strings in Python, from basic concepts like immutability and indexing to a wide range of powerful built-in methods."
      ]
    },
    {
      "cell_type": "markdown",
      "metadata": {},
      "source": [
        "## 1. String Basics\n",
        "\n",
        "Let's start with the fundamentals."
      ]
    },
    {
      "cell_type": "markdown",
      "metadata": {},
      "source": [
        "### What is a String?\n",
        "In Python, a string is a sequence of characters, enclosed in single (`'`) or double (`\"`) quotes."
      ]
    },
    {
      "cell_type": "code",
      "execution_count": null,
      "metadata": {},
      "outputs": [],
      "source": [
        "prompt = \"what is your name?\"\n",
        "print(prompt)\n",
        "print(type(prompt))"
      ]
    },
    {
      "cell_type": "markdown",
      "metadata": {},
      "source": [
        "### Multiline Strings\n",
        "You can create strings that span multiple lines using triple quotes (`\"\"\"` or `'''`)."
      ]
    },
    {
      "cell_type": "code",
      "execution_count": null,
      "metadata": {},
      "outputs": [],
      "source": [
        "message = \"\"\"tell me about yourself ?\n",
        "what are the issues you've been facing while learning to code ?\n",
        "How are you tackling them ?\"\"\"\n",
        "print(message)"
      ]
    },
    {
      "cell_type": "markdown",
      "metadata": {},
      "source": [
        "### Strings are Immutable\n",
        "An important concept is that strings are **immutable**. This means that once a string is created, it cannot be changed. Any method that appears to modify a string actually returns a *new* string.\n",
        "\n",
        "Trying to change a character at a specific index will result in a `TypeError`."
      ]
    },
    {
      "cell_type": "code",
      "execution_count": 4,
      "metadata": {},
      "outputs": [
        {
          "name": "stdout",
          "output_type": "stream",
          "text": [
            "Error: 'str' object does not support item assignment\n",
            "aahim\n"
          ]
        }
      ],
      "source": [
        "# This cell will raise an error, demonstrating immutability.\n",
        "name = \"Rahim\"\n",
        "try:\n",
        "    name[1] = 't'\n",
        "except TypeError as e:\n",
        "    print(f\"Error: {e}\")\n",
        "    \n",
        "modified  ='a'+name[1:]\n",
        "print(modified)"
      ]
    },
    {
      "cell_type": "markdown",
      "metadata": {},
      "source": [
        "### Indexing and Slicing\n",
        "You can access individual characters using **indexing** (starting from 0) and subsequences of characters using **slicing**."
      ]
    },
    {
      "cell_type": "code",
      "execution_count": null,
      "metadata": {},
      "outputs": [],
      "source": [
        "text = \"this is a cool string\"\n",
        "\n",
        "# --- Indexing ---\n",
        "print(f\"First character: {text[0]}\")\n",
        "print(f\"Fifth character: {text[4]}\")\n",
        "\n",
        "# Negative indexing starts from the end (-1 is the last character)\n",
        "print(f\"Last character: {text[-1]}\")\n",
        "print(f\"Second to last character: {text[-2]}\")\n",
        "\n",
        "# --- Slicing ---\n",
        "# Slice from index 5 up to (but not including) index 11\n",
        "substring = text[5:11]\n",
        "print(f\"Slice from index 5 to 11: '{substring}'\")\n",
        "\n",
        "# Slice from the beginning to index 4\n",
        "print(f\"Slice from start: '{text[:4]}'\")\n",
        "\n",
        "# A common trick to reverse a string is to use a step of -1\n",
        "reversed_text = text[::-1]\n",
        "print(f\"Reversed string: '{reversed_text}'\")"
      ]
    },
    {
      "cell_type": "markdown",
      "metadata": {},
      "source": [
        "---\n",
        "## 2. Core String Methods\n",
        "\n",
        "Python strings come with a rich set of methods to perform common operations."
      ]
    },
    {
      "cell_type": "markdown",
      "metadata": {},
      "source": [
        "### Case Conversion\n",
        "These methods are used to change the case of the characters in the string."
      ]
    },
    {
      "cell_type": "code",
      "execution_count": null,
      "metadata": {},
      "outputs": [],
      "source": [
        "s = \"Welcome to Phitron ML Course\"\n",
        "print(f\"Original:         '{s}'\")\n",
        "print(f\"s.lower():        '{s.lower()}'\")\n",
        "print(f\"s.upper():        '{s.upper()}'\")\n",
        "print(f\"s.capitalize():   '{s.capitalize()}'\") # First char upper, rest lower.\n",
        "print(f\"s.title():        '{s.title()}'\")      # First char of each word upper.\n",
        "\n",
        "# .casefold() is more aggressive than .lower() and is used for case-insensitive matching\n",
        "s_german = \"Straße\"\n",
        "print(f\"\\n'{s_german}'.lower():    '{s_german.lower()}'\")\n",
        "print(f\"'{s_german}'.casefold(): '{s_german.casefold()}'\")"
      ]
    },
    {
      "cell_type": "markdown",
      "metadata": {},
      "source": [
        "### Searching and Finding\n",
        "Methods for finding substrings, counting occurrences, and checking existence."
      ]
    },
    {
      "cell_type": "code",
      "execution_count": null,
      "metadata": {},
      "outputs": [],
      "source": [
        "text = \"welcome to phitron, phitron is great!\"\n",
        "\n",
        "print(f\"Length of the string: {len(text)}\")\n",
        "\n",
        "# Checking for existence\n",
        "print(f\"'phitron' in text: {'phitron' in text}\")\n",
        "\n",
        "# Counting occurrences\n",
        "print(f\"text.count('phitron'): {text.count('phitron')}\")\n",
        "\n",
        "# Finding the index of the first occurrence (-1 if not found)\n",
        "print(f\"text.find('phitron'): {text.find('phitron')}\")\n",
        "\n",
        "# Finding the index of the last occurrence\n",
        "print(f\"text.rfind('phitron'): {text.rfind('phitron')}\")\n",
        "\n",
        "# Checking prefixes and suffixes\n",
        "print(f\"text.startswith('welcome'): {text.startswith('welcome')}\")\n",
        "print(f\"text.endswith('great!'): {text.endswith('great!')}\")"
      ]
    },
    {
      "cell_type": "markdown",
      "metadata": {},
      "source": [
        "### Checking and Validation (`is...` methods)\n",
        "These methods check the characters of a string and return `True` or `False`."
      ]
    },
    {
      "cell_type": "code",
      "execution_count": null,
      "metadata": {},
      "outputs": [],
      "source": [
        "print(f\"'Python'.isalpha(): {'Python'.isalpha()}\")         # Are all characters alphabetic?\n",
        "print(f\"'Python3'.isalnum(): {'Python3'.isalnum()}\")       # Are all characters alphanumeric?\n",
        "print(f\"'12345'.isnumeric(): {'12345'.isnumeric()}\")       # Are all characters numeric?\n",
        "print(f\"'   '.isspace(): {'   '.isspace()}\")              # Is the string only whitespace?\n",
        "print(f\"'all lower'.islower(): {'all lower'.islower()}\")   # Are all characters lowercase?\n",
        "print(f\"'ALL UPPER'.isupper(): {'ALL UPPER'.isupper()}\")   # Are all characters uppercase?\n",
        "print(f\"'A Title String'.istitle(): {'A Title String'.istitle()}\") # Is the string title-cased?"
      ]
    },
    {
      "cell_type": "markdown",
      "metadata": {},
      "source": [
        "### Splitting and Joining\n",
        "Splitting breaks a string into a list, while joining combines a list of strings into one."
      ]
    },
    {
      "cell_type": "code",
      "execution_count": null,
      "metadata": {},
      "outputs": [
        {
          "name": "stdout",
          "output_type": "stream",
          "text": [
            "Original: 'what is Phitron ?'\n",
            "Split into words: ['what', 'is', 'Phitron', '?']\n",
            "Original CSV: 'name,age,city'\n",
            "Split by comma: ['name', 'age', 'city']\n",
            "Words joined by '-': 'what-is-Phitron-?'\n"
          ]
        }
      ],
      "source": [
        "# Splitting a string into a list of words\n",
        "sentence = \"what is Phitron ?\"\n",
        "words = sentence.split()\n",
        "print(f\"Original: '{sentence}'\")\n",
        "print(f\"Split into words: {words}\")\n",
        "\n",
        "# Splitting by a specific character\n",
        "csv_data = \"name,age,city\"\n",
        "fields = csv_data.split(',')\n",
        "print(f\"Original CSV: '{csv_data}'\")\n",
        "print(f\"Split by comma: {fields}\")\n",
        "\n",
        "# Joining a list of strings into a single string\n",
        "joined_words = \"-\".join(words)\n",
        "print(f\"Words joined by '-': '{joined_words}'\")"
      ]
    },
    {
      "cell_type": "markdown",
      "metadata": {},
      "source": [
        "### Cleaning and Replacing\n",
        "Methods to remove whitespace or replace parts of a string."
      ]
    },
    {
      "cell_type": "code",
      "execution_count": null,
      "metadata": {},
      "outputs": [
        {
          "name": "stdout",
          "output_type": "stream",
          "text": [
            "Original: 'Welcome to Phitron ML Course'\n",
            "After replace: 'Welcome to Phitron AI/ML Course'\n",
            "\n",
            "Original padded: '   some text with spaces   '\n",
            "Padded.strip():  'some text with spaces'\n"
          ]
        },
        {
          "name": "stdout",
          "output_type": "stream",
          "text": [
            "Original: 'Welcome to Phitron ML Course'\n",
            "After replace: 'Welcome to Phitron AI/ML Course'\n",
            "\n",
            "Original padded: '   some text with spaces   '\n",
            "Padded.strip():  'some text with spaces'\n"
          ]
        }
      ],
      "source": [
        "# Replacing a substring\n",
        "original_string = \"Welcome to Phitron ML Course\"\n",
        "new_string = original_string.replace(\"ML\", \"AI/ML\")\n",
        "print(f\"Original: '{original_string}'\")\n",
        "print(f\"After replace: '{new_string}'\")\n",
        "\n",
        "# Removing leading/trailing whitespace\n",
        "padded_string = \"   some text with spaces   \"\n",
        "print(f\"\\nOriginal padded: '{padded_string}'\")\n",
        "print(f\"Padded.strip():  '{padded_string.strip()}'\")"
      ]
    },
    {
      "cell_type": "markdown",
      "metadata": {},
      "source": [
        "### Formatted Strings (f-strings)\n",
        "F-strings provide a concise and powerful way to embed expressions inside string literals."
      ]
    },
    {
      "cell_type": "code",
      "execution_count": 7,
      "metadata": {},
      "outputs": [
        {
          "name": "stdout",
          "output_type": "stream",
          "text": [
            "My name is Anik, and my age is 23.\n",
            "My name is Anik, age = 23, height = 5.114\n",
            "The model accuracy is 83.33%\n"
          ]
        }
      ],
      "source": [
        "name = \"Anik\"\n",
        "age = 23\n",
        "height = 5.11432545\n",
        "\n",
        "# Basic f-string\n",
        "info = f\"My name is {name}, and my age is {age}.\"\n",
        "print(info)\n",
        "\n",
        "# F-string with number formatting\n",
        "# Format height to 4 total digits\n",
        "print(f\"My name is {name}, age = {age}, height = {height:.4}\")\n",
        "\n",
        "# F-string to format a number as a percentage\n",
        "model_accuracy = 0.83333\n",
        "print(f\"The model accuracy is {model_accuracy:.2%}\")"
      ]
    }
  ],
  "metadata": {
    "kernelspec": {
      "display_name": "Python 3",
      "language": "python",
      "name": "python3"
    },
    "language_info": {
      "codemirror_mode": {
        "name": "ipython",
        "version": 3
      },
      "file_extension": ".py",
      "mimetype": "text/x-python",
      "name": "python",
      "nbconvert_exporter": "python",
      "pygments_lexer": "ipython3",
      "version": "3.13.8"
    }
  },
  "nbformat": 4,
  "nbformat_minor": 4
}

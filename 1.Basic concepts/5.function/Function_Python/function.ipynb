{
 "cells": [
  {
   "cell_type": "code",
   "execution_count": 1,
   "id": "d1a0a4db",
   "metadata": {},
   "outputs": [
    {
     "ename": "TypeError",
     "evalue": "greet() missing 1 required positional argument: 'user'",
     "output_type": "error",
     "traceback": [
      "\u001b[31m---------------------------------------------------------------------------\u001b[39m",
      "\u001b[31mTypeError\u001b[39m                                 Traceback (most recent call last)",
      "\u001b[36mCell\u001b[39m\u001b[36m \u001b[39m\u001b[32mIn[1]\u001b[39m\u001b[32m, line 4\u001b[39m\n\u001b[32m      1\u001b[39m \u001b[38;5;28;01mdef\u001b[39;00m\u001b[38;5;250m \u001b[39m\u001b[34mgreet\u001b[39m(user):\n\u001b[32m      2\u001b[39m     \u001b[38;5;28;01mreturn\u001b[39;00m \u001b[33mf\u001b[39m\u001b[33m\"\u001b[39m\u001b[38;5;132;01m{\u001b[39;00muser\u001b[38;5;132;01m}\u001b[39;00m\u001b[33m-->\u001b[39m\u001b[33m\"\u001b[39m\n\u001b[32m----> \u001b[39m\u001b[32m4\u001b[39m \u001b[43mgreet\u001b[49m\u001b[43m(\u001b[49m\u001b[43m)\u001b[49m\n",
      "\u001b[31mTypeError\u001b[39m: greet() missing 1 required positional argument: 'user'"
     ]
    }
   ],
   "source": [
    "def greet(user):\n",
    "    return f\"{user}-->\"\n",
    "\n",
    "greet()"
   ]
  },
  {
   "cell_type": "code",
   "execution_count": null,
   "id": "75e3e14d",
   "metadata": {},
   "outputs": [
    {
     "data": {
      "text/plain": [
       "'anik-->'"
      ]
     },
     "execution_count": 3,
     "metadata": {},
     "output_type": "execute_result"
    }
   ],
   "source": [
    "## when default value seted previously , without passing paramenter  we can call the function\n",
    "def greet(user=\"anik\"):\n",
    "    return f\"{user}-->\"\n",
    "\n",
    "greet()"
   ]
  },
  {
   "cell_type": "code",
   "execution_count": null,
   "id": "e316680a",
   "metadata": {},
   "outputs": [
    {
     "name": "stdout",
     "output_type": "stream",
     "text": [
      "Employee Name:rakib , salary :34006\n",
      "Employee Name:sakib , salary :50000\n",
      "Employee Name:anonymous , salary :9000\n"
     ]
    }
   ],
   "source": [
    "def show_employee(name=\"anonymous\",salary=9000):\n",
    "    print(f'Employee Name:{name} , salary :{salary}')\n",
    "\n",
    "\n",
    "\n",
    "show_employee(\"rakib\",34006)\n",
    "show_employee(\"sakib\",salary=50000)\n",
    "show_employee()\n"
   ]
  },
  {
   "cell_type": "code",
   "execution_count": null,
   "id": "4a57112f",
   "metadata": {},
   "outputs": [
    {
     "name": "stdout",
     "output_type": "stream",
     "text": [
      "a = 10,b = 12,c = 10\n",
      "356\n"
     ]
    }
   ],
   "source": [
    "def square_addition(a,b,c): #positional argument\n",
    "    print(f\"a = {a},b = {b},c = {c}\")\n",
    "    a = a**2\n",
    "    b = b**2\n",
    "    c = c**2\n",
    "    return a+b+c\n",
    "\n",
    "ans = square_addition(10,12,10)+12\n",
    "print(ans)"
   ]
  },
  {
   "cell_type": "code",
   "execution_count": 6,
   "id": "8aa5c6e3",
   "metadata": {},
   "outputs": [
    {
     "name": "stdout",
     "output_type": "stream",
     "text": [
      "a = 30,b = 10,c = 20\n",
      "1410\n"
     ]
    }
   ],
   "source": [
    "ans = square_addition(b=10, c=20, a=30) + 10\n",
    "print(ans)\n"
   ]
  },
  {
   "cell_type": "code",
   "execution_count": 13,
   "id": "fe237202",
   "metadata": {},
   "outputs": [
    {
     "name": "stdout",
     "output_type": "stream",
     "text": [
      "{'name': 'adil', 'cls': 10, 'roll': 30, 'marks': 30.5}\n",
      "name-->adil\n",
      "cls-->10\n",
      "roll-->30\n",
      "marks-->30.5\n"
     ]
    }
   ],
   "source": [
    "#**kwargs\n",
    "def student(**kargs):\n",
    "    print(kargs)\n",
    "    for key,value in kargs.items():\n",
    "        print(f\"{key}-->{value}\")\n",
    "student(name=\"adil\", cls=10, roll=30, marks=30.5)"
   ]
  },
  {
   "cell_type": "code",
   "execution_count": null,
   "id": "37dfc7e2",
   "metadata": {},
   "outputs": [
    {
     "name": "stdout",
     "output_type": "stream",
     "text": [
      "('karim', 10, 23.3, 45)\n",
      "karim\n",
      "10\n",
      "23.3\n",
      "45\n"
     ]
    }
   ],
   "source": [
    "#args\n",
    "def students(*args):\n",
    "    print(args)\n",
    "    for i in args:\n",
    "        print(i)\n",
    "\n",
    "students(\"karim\",10,23.3,45)"
   ]
  },
  {
   "cell_type": "code",
   "execution_count": 15,
   "id": "7bcd8945",
   "metadata": {},
   "outputs": [
    {
     "name": "stdout",
     "output_type": "stream",
     "text": [
      "<class 'float'>\n",
      "<class 'str'>\n"
     ]
    }
   ],
   "source": [
    "def give_prediction():\n",
    "    return 10.5\n",
    "print(type(give_prediction()))# Output: <class 'float'>\n",
    "\n",
    "def give_prediction():\n",
    "    return \"name\"\n",
    "print(type(give_prediction()))# Output: <class 'str'>\n",
    "\n"
   ]
  },
  {
   "cell_type": "code",
   "execution_count": 16,
   "id": "c28c8fdf",
   "metadata": {},
   "outputs": [
    {
     "name": "stdout",
     "output_type": "stream",
     "text": [
      "<class 'tuple'>\n",
      "(10, 30)\n"
     ]
    }
   ],
   "source": [
    "def give_prediction(a, b):\n",
    "    return a, b\n",
    "\n",
    "print(type(give_prediction(10,30)))# Output: <class 'tuple'>\n",
    "print(give_prediction(10,30))# Output: (10, 30)\n"
   ]
  },
  {
   "cell_type": "code",
   "execution_count": 17,
   "id": "876621b1",
   "metadata": {},
   "outputs": [
    {
     "name": "stdout",
     "output_type": "stream",
     "text": [
      "10 30\n"
     ]
    }
   ],
   "source": [
    "x, y = give_prediction(10,30)\n",
    "print(x, y) # Output: 10 30\n"
   ]
  },
  {
   "cell_type": "code",
   "execution_count": 18,
   "id": "4dbfc5fa",
   "metadata": {},
   "outputs": [
    {
     "name": "stdout",
     "output_type": "stream",
     "text": [
      "[10, 20, 30]\n",
      "[20, 30, 40]\n"
     ]
    }
   ],
   "source": [
    "def give_prediction():\n",
    "    a = [10,20,30]\n",
    "    b = [20,30,40]\n",
    "    return a, b\n",
    "\n",
    "x, y = give_prediction()\n",
    "print(x)# Output: [10, 20, 30]\n",
    "print(y)# Output: [20, 30, 40]\n"
   ]
  },
  {
   "cell_type": "code",
   "execution_count": 20,
   "id": "e54c536e",
   "metadata": {},
   "outputs": [
    {
     "name": "stdout",
     "output_type": "stream",
     "text": [
      "<class 'tuple'>\n",
      "{10, 20, 30}\n",
      "{10, 20, 30}\n",
      "[100, 200, 300]\n",
      "[100, 200, 300]\n"
     ]
    }
   ],
   "source": [
    "def give_prediction():\n",
    "    a = {10,20,30}\n",
    "    b = [100,200,300]\n",
    "    return a, b\n",
    "\n",
    "x = give_prediction()\n",
    "print(type(x))       # Output: <class 'tuple'>\n",
    "\n",
    "for item in x:\n",
    "    print(item)\n",
    "    print(item)\n"
   ]
  },
  {
   "cell_type": "code",
   "execution_count": 21,
   "id": "09170098",
   "metadata": {},
   "outputs": [
    {
     "name": "stdout",
     "output_type": "stream",
     "text": [
      "--- Using the Generator ---\n",
      "First chunk: [0, 1, 2, 3, 4]\n",
      "Second chunk: [5, 6, 7, 8, 9]\n",
      "Third chunk: [10, 11, 12, 13, 14]\n"
     ]
    }
   ],
   "source": [
    "\n",
    "BIG_DATASET = [num for num in range(500)]\n",
    "\n",
    "\n",
    "# 2. Generator Function\n",
    "def chunk_generator(chunk_size: int, data_list: list):\n",
    "\n",
    "    for i in range(0, len(data_list), chunk_size):\n",
    "        # returning a chunk without loading the entire dataset into memory at once.\n",
    "        yield data_list[i : i + chunk_size]\n",
    "\n",
    "\n",
    "print(\"--- Using the Generator ---\")\n",
    "\n",
    "# Initialize the generator object with a chunk size of 5\n",
    "data_chunks = chunk_generator(chunk_size=5, data_list=BIG_DATASET)\n",
    "\n",
    "# Retrieve and print the first chunk\n",
    "print(f\"First chunk: {next(data_chunks)}\")\n",
    "\n",
    "# Retrieve and print the second chunk\n",
    "print(f\"Second chunk: {next(data_chunks)}\")\n",
    "\n",
    "# Retrieve and print the third chunk\n",
    "print(f\"Third chunk: {next(data_chunks)}\")"
   ]
  },
  {
   "cell_type": "code",
   "execution_count": 24,
   "id": "1fd6533d",
   "metadata": {},
   "outputs": [
    {
     "name": "stdout",
     "output_type": "stream",
     "text": [
      "[12, 13, 134, 414]\n"
     ]
    }
   ],
   "source": [
    "l = map(int,input().split())\n",
    "print(list(l))"
   ]
  },
  {
   "cell_type": "code",
   "execution_count": 27,
   "id": "2240767d",
   "metadata": {},
   "outputs": [
    {
     "name": "stdout",
     "output_type": "stream",
     "text": [
      "5 1\n"
     ]
    }
   ],
   "source": [
    "from functools import reduce\n",
    "def findmax(a,b):\n",
    "    return a if a>b else b\n",
    "def findmin(a,b):\n",
    "    return a if a<b else b\n",
    "\n",
    "n=int(input())\n",
    "\n",
    "l = list(map(int,input().split()))\n",
    "max = reduce(findmax,l)\n",
    "min = reduce(findmin,l)\n",
    "\n",
    "print(max,min)\n"
   ]
  },
  {
   "cell_type": "code",
   "execution_count": 30,
   "id": "b12bdd88",
   "metadata": {},
   "outputs": [
    {
     "name": "stdout",
     "output_type": "stream",
     "text": [
      "3 4 1 2\n"
     ]
    }
   ],
   "source": [
    "n=int(input())\n",
    "\n",
    "l1= list(map(int,input().split()))\n",
    "l2= list(map(int,input().split()))\n",
    "\n",
    "L3 =  l2+l1\n",
    "print(*L3)\n"
   ]
  }
 ],
 "metadata": {
  "kernelspec": {
   "display_name": "Python 3",
   "language": "python",
   "name": "python3"
  },
  "language_info": {
   "codemirror_mode": {
    "name": "ipython",
    "version": 3
   },
   "file_extension": ".py",
   "mimetype": "text/x-python",
   "name": "python",
   "nbconvert_exporter": "python",
   "pygments_lexer": "ipython3",
   "version": "3.13.8"
  }
 },
 "nbformat": 4,
 "nbformat_minor": 5
}
